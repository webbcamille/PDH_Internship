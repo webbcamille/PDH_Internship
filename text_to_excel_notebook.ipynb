{
 "cells": [
  {
   "cell_type": "markdown",
   "id": "5006d4ec",
   "metadata": {},
   "source": [
    "## Extract Sections from Text File to Excel"
   ]
  },
  {
   "cell_type": "code",
   "execution_count": null,
   "id": "8c8b0289",
   "metadata": {},
   "outputs": [],
   "source": [
    "import re\n",
    "import pandas as pd\n"
   ]
  },
  {
   "cell_type": "markdown",
   "id": "97a5662e",
   "metadata": {},
   "source": [
    "### 1. Read the content of the text file"
   ]
  },
  {
   "cell_type": "code",
   "execution_count": null,
   "id": "79f6044a",
   "metadata": {},
   "outputs": [],
   "source": [
    "with open(\"path_to_text_file.txt\", \"r\") as file:\n",
    "    content = file.read()\n"
   ]
  },
  {
   "cell_type": "markdown",
   "id": "7fe2723e",
   "metadata": {},
   "source": [
    "### 2. Extract the required sections"
   ]
  },
  {
   "cell_type": "code",
   "execution_count": null,
   "id": "2992abe5",
   "metadata": {},
   "outputs": [],
   "source": [
    "# Extracting sections based on the provided conditions\n",
    "\n",
    "# ICD10 Codes from Assessment\n",
    "icd10_code_pattern = re.compile(r'(?P<code>\\w+\\d+)')\n",
    "icd10_codes_from_assessment = icd10_code_pattern.findall(assessment)\n",
    "combined_icd10_codes = [icd10_codes_from_assessment[i] + '.' + icd10_codes_from_assessment[i + 1] \n",
    "                        for i in range(0, len(icd10_codes_from_assessment) - 1, 2)]\n",
    "\n",
    "# Subjective\n",
    "subjective_pattern = re.compile(r'- Subjective -\\n\\n(.*?)- Past Medical History -', re.DOTALL)\n",
    "subjective_match = subjective_pattern.search(content)\n",
    "subjective = subjective_match.group(1).strip() if subjective_match else \"\"\n",
    "\n",
    "# Assessment\n",
    "assessment_pattern = re.compile(r'- Assessment -\\n\\n(.*?)(?:\\n){2}', re.DOTALL)\n",
    "assessment_match = assessment_pattern.search(content)\n",
    "assessment = assessment_match.group(1).strip() if assessment_match else \"\"\n",
    "\n",
    "# Plan\n",
    "plan_pattern = re.compile(r'- Plan -\\n\\n(.*?)CPT', re.DOTALL)\n",
    "plan_match = plan_pattern.search(content)\n",
    "plan = plan_match.group(1).strip() if plan_match else \"\"\n"
   ]
  },
  {
   "cell_type": "markdown",
   "id": "8c9bf84b",
   "metadata": {},
   "source": [
    "### 3. Write the extracted sections to an Excel file"
   ]
  },
  {
   "cell_type": "code",
   "execution_count": null,
   "id": "bac83351",
   "metadata": {},
   "outputs": [],
   "source": [
    "# Splitting the \"Assessment\" section by newlines to create multiple rows\n",
    "assessment_sentences = assessment.split('\\n')\n",
    "\n",
    "# Expanding the other columns to match the length of assessment_sentences\n",
    "df_expanded = pd.DataFrame({\n",
    "    \"ICD10 code\": ', '.join(combined_icd10_codes),\n",
    "    \"Subjective\": [subjective] * len(assessment_sentences),\n",
    "    \"Assessment\": assessment_sentences,\n",
    "    \"Plan\": [plan] * len(assessment_sentences)\n",
    "})\n",
    "\n",
    "# Writing the expanded DataFrame to an Excel file\n",
    "output_file_path = \"output_excel_file.xlsx\"\n",
    "df_expanded.to_excel(output_file_path, index=False)\n"
   ]
  }
 ],
 "metadata": {
  "language_info": {
   "name": "python"
  }
 },
 "nbformat": 4,
 "nbformat_minor": 5
}
