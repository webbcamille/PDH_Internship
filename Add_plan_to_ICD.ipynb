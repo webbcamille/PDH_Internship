{
 "cells": [
  {
   "cell_type": "code",
   "execution_count": null,
   "metadata": {},
   "outputs": [],
   "source": [
    "import io\n",
    "import re\n",
    "import string\n",
    "import tqdm\n",
    "import numpy as np\n",
    "import tensorflow as tf\n",
    "from tensorflow.keras import layers\n",
    "from gensim.models import Word2Vec\n",
    "import nltk\n",
    "from nltk.tokenize import word_tokenize\n",
    "nltk.download('punkt')  # Download NLTK's punkt tokenizer data\n",
    "import sklearn\n",
    "from sklearn.metrics.pairwise import cosine_similarity\n",
    "from Pull_plan import extract_Plan\n",
    "from openpyxl import Workbook"
   ]
  },
  {
   "cell_type": "code",
   "execution_count": 2,
   "metadata": {},
   "outputs": [
    {
     "ename": "NameError",
     "evalue": "name 'extract_Plan' is not defined",
     "output_type": "error",
     "traceback": [
      "\u001b[1;31m---------------------------------------------------------------------------\u001b[0m",
      "\u001b[1;31mNameError\u001b[0m                                 Traceback (most recent call last)",
      "Cell \u001b[1;32mIn[2], line 3\u001b[0m\n\u001b[0;32m      1\u001b[0m file_name \u001b[39m=\u001b[39m \u001b[39minput\u001b[39m(\u001b[39m\"\u001b[39m\u001b[39mEnter the path to the .txt file: \u001b[39m\u001b[39m\"\u001b[39m)\n\u001b[1;32m----> 3\u001b[0m Plan_data \u001b[39m=\u001b[39m extract_Plan(file_name)\n\u001b[0;32m      5\u001b[0m \u001b[39m# Split the text based on 2 or more newlines\u001b[39;00m\n\u001b[0;32m      6\u001b[0m blocks \u001b[39m=\u001b[39m re\u001b[39m.\u001b[39msplit(\u001b[39mr\u001b[39m\u001b[39m'\u001b[39m\u001b[39m\\\u001b[39m\u001b[39mn\u001b[39m\u001b[39m\\\u001b[39m\u001b[39mn+\u001b[39m\u001b[39m'\u001b[39m, Plan_data\u001b[39m.\u001b[39mstrip())\n",
      "\u001b[1;31mNameError\u001b[0m: name 'extract_Plan' is not defined"
     ]
    }
   ],
   "source": [
    "file_name = input(\"Enter the path to the .txt file: \")\n",
    "\n",
    "Plan_data = extract_Plan(file_name)\n",
    "\n",
    "# Split the text based on 2 or more newlines\n",
    "blocks = re.split(r'\\n\\n+', Plan_data.strip())\n",
    "\n",
    "wb = openpyxl.Workbook(r\"C\\Users\\Administrator\\Documents\\ParaDocsHealthPrototypes-main\\ParaDocsHealthPrototypes-main\\Output Files\\ICD.xlsx\")\n",
    "ws = wb.active"
   ]
  }
 ],
 "metadata": {
  "kernelspec": {
   "display_name": "Python 3",
   "language": "python",
   "name": "python3"
  },
  "language_info": {
   "codemirror_mode": {
    "name": "ipython",
    "version": 3
   },
   "file_extension": ".py",
   "mimetype": "text/x-python",
   "name": "python",
   "nbconvert_exporter": "python",
   "pygments_lexer": "ipython3",
   "version": "3.11.4"
  },
  "orig_nbformat": 4
 },
 "nbformat": 4,
 "nbformat_minor": 2
}
