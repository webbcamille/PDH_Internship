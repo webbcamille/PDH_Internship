{
 "cells": [
  {
   "cell_type": "code",
   "execution_count": 36,
   "metadata": {},
   "outputs": [
    {
     "name": "stderr",
     "output_type": "stream",
     "text": [
      "[nltk_data] Downloading package punkt to\n",
      "[nltk_data]     C:\\Users\\Administrator\\AppData\\Roaming\\nltk_data...\n",
      "[nltk_data]   Package punkt is already up-to-date!\n"
     ]
    }
   ],
   "source": [
    "import io\n",
    "import re\n",
    "import string\n",
    "import tqdm\n",
    "import numpy as np\n",
    "import tensorflow as tf\n",
    "from tensorflow.keras import layers\n",
    "from gensim.models import Word2Vec\n",
    "import nltk\n",
    "from nltk.tokenize import word_tokenize\n",
    "nltk.download('punkt')  # Download NLTK's punkt tokenizer data\n",
    "import sklearn\n",
    "from sklearn.metrics.pairwise import cosine_similarity\n",
    "from Pull_plan import extract_Plan\n",
    "import os"
   ]
  },
  {
   "cell_type": "code",
   "execution_count": 65,
   "metadata": {},
   "outputs": [],
   "source": [
    "# Path to input file folder\n",
    "directory_path = r\"C:\\Users\\Administrator\\Documents\\ParaDocsHealthPrototypes-main\\ParaDocsHealthPrototypes-main\\Input Files\\\\\"\n",
    "\n",
    "# Initialize an empty list to store tokenized sentences from all files\n",
    "review_text = []\n",
    "\n",
    "# List all files in the directory\n",
    "files = os.listdir(directory_path)\n",
    "\n",
    "# Loop through each file and read its contents\n",
    "for file_name in files:\n",
    "    try:\n",
    "        with open(os.path.join(directory_path, file_name), 'r', encoding='utf-8') as file:\n",
    "            lines = file.readlines()\n",
    "    except UnicodeDecodeError:\n",
    "        with open(os.path.join(directory_path, file_name), 'r', encoding='ISO-8859-1') as file:\n",
    "            lines = file.readlines()\n",
    "\n",
    "    tokenized_lines = [word_tokenize(line.lower()) for line in lines]\n",
    "    review_text.extend(tokenized_lines)\n",
    "\n",
    "\n"
   ]
  },
  {
   "cell_type": "code",
   "execution_count": 66,
   "metadata": {},
   "outputs": [],
   "source": [
    "# Create a new Word2Vec model\n",
    "model = Word2Vec(window=10, min_count=2, workers=4)\n",
    "\n",
    "# Build the vocabulary\n",
    "model.build_vocab(review_text, progress_per=1000)\n",
    "\n",
    "# Train the model\n",
    "model.train(review_text, total_examples=model.corpus_count, epochs=model.epochs)\n",
    "\n",
    "# save the model\n",
    "model.save(\"../Output Files/First_model\")\n",
    "\n",
    "\n",
    "\n"
   ]
  },
  {
   "cell_type": "code",
   "execution_count": 64,
   "metadata": {},
   "outputs": [
    {
     "name": "stdout",
     "output_type": "stream",
     "text": [
      "palpitations: 0.9615\n",
      "side: 0.9548\n",
      "shoulder: 0.9426\n",
      "of: 0.9390\n",
      "well: 0.9377\n",
      "risk: 0.9374\n",
      "fainting: 0.9362\n",
      "arthralgias: 0.9325\n",
      "effects: 0.9318\n",
      "negative: 0.9293\n"
     ]
    }
   ],
   "source": [
    "\n",
    "# Retrieve the top 10 most similar words to the word \"pain\"\n",
    "#Words = input(\"word of interset\")\n",
    "\n",
    "#similar_words = model.wv.most_similar(Words)\n",
    "\n",
    "# Print the similar words\n",
    "#for word, similarity in similar_words:\n",
    "    #print(f\"{word}: {similarity:.4f}\")"
   ]
  }
 ],
 "metadata": {
  "kernelspec": {
   "display_name": "Python 3",
   "language": "python",
   "name": "python3"
  },
  "language_info": {
   "codemirror_mode": {
    "name": "ipython",
    "version": 3
   },
   "file_extension": ".py",
   "mimetype": "text/x-python",
   "name": "python",
   "nbconvert_exporter": "python",
   "pygments_lexer": "ipython3",
   "version": "3.11.4"
  },
  "orig_nbformat": 4
 },
 "nbformat": 4,
 "nbformat_minor": 2
}
